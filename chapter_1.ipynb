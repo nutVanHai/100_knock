{
 "cells": [
  {
   "cell_type": "markdown",
   "metadata": {},
   "source": [
    "# 00 .文字列の逆順"
   ]
  },
  {
   "cell_type": "code",
   "execution_count": 1,
   "metadata": {
    "collapsed": true
   },
   "outputs": [],
   "source": [
    "s = \"stressed\""
   ]
  },
  {
   "cell_type": "code",
   "execution_count": 2,
   "metadata": {
    "collapsed": false
   },
   "outputs": [
    {
     "name": "stdout",
     "output_type": "stream",
     "text": [
      "stressed\n"
     ]
    }
   ],
   "source": [
    "print s"
   ]
  },
  {
   "cell_type": "code",
   "execution_count": 3,
   "metadata": {
    "collapsed": false
   },
   "outputs": [
    {
     "name": "stdout",
     "output_type": "stream",
     "text": [
      "t\n"
     ]
    }
   ],
   "source": [
    "print s[1]"
   ]
  },
  {
   "cell_type": "code",
   "execution_count": 5,
   "metadata": {
    "collapsed": false
   },
   "outputs": [
    {
     "name": "stdout",
     "output_type": "stream",
     "text": [
      "0\n",
      "1\n",
      "2\n",
      "3\n",
      "4\n",
      "5\n",
      "6\n",
      "7\n"
     ]
    }
   ],
   "source": [
    "for i in range(len(s)):\n",
    "    print i"
   ]
  },
  {
   "cell_type": "code",
   "execution_count": 6,
   "metadata": {
    "collapsed": false
   },
   "outputs": [
    {
     "name": "stdout",
     "output_type": "stream",
     "text": [
      "s\n",
      "t\n",
      "r\n",
      "e\n",
      "s\n",
      "s\n",
      "e\n",
      "d\n"
     ]
    }
   ],
   "source": [
    "for i in range(len(s)):\n",
    "    print s[i]"
   ]
  },
  {
   "cell_type": "code",
   "execution_count": 7,
   "metadata": {
    "collapsed": false
   },
   "outputs": [
    {
     "name": "stdout",
     "output_type": "stream",
     "text": [
      "desserts\n"
     ]
    }
   ],
   "source": [
    "print s[::-1]"
   ]
  },
  {
   "cell_type": "code",
   "execution_count": 17,
   "metadata": {
    "collapsed": false
   },
   "outputs": [],
   "source": [
    "s = list(s)"
   ]
  },
  {
   "cell_type": "code",
   "execution_count": 12,
   "metadata": {
    "collapsed": false
   },
   "outputs": [
    {
     "name": "stdout",
     "output_type": "stream",
     "text": [
      "['s', 't', 'r', 'e', 's', 's', 'e', 'd']\n"
     ]
    }
   ],
   "source": [
    "print s"
   ]
  },
  {
   "cell_type": "code",
   "execution_count": 13,
   "metadata": {
    "collapsed": true
   },
   "outputs": [],
   "source": [
    "s =s.reverse()"
   ]
  },
  {
   "cell_type": "code",
   "execution_count": 16,
   "metadata": {
    "collapsed": false
   },
   "outputs": [
    {
     "name": "stdout",
     "output_type": "stream",
     "text": [
      "stressed\n"
     ]
    }
   ],
   "source": [
    "print \"\".join(s)"
   ]
  },
  {
   "cell_type": "code",
   "execution_count": 24,
   "metadata": {
    "collapsed": false
   },
   "outputs": [
    {
     "name": "stdout",
     "output_type": "stream",
     "text": [
      "['s', 't', 'r', 'e', 's', 's', 'e', 'd']\n",
      "None\n"
     ]
    }
   ],
   "source": [
    "s = \"stressed\"\n",
    "s_list = list(s)\n",
    "print s_list\n",
    "s_new = s_list.reverse()\n",
    "print s_new"
   ]
  },
  {
   "cell_type": "markdown",
   "metadata": {},
   "source": [
    "# 01.「パタとタクシーー」"
   ]
  },
  {
   "cell_type": "code",
   "execution_count": 54,
   "metadata": {
    "collapsed": false
   },
   "outputs": [],
   "source": [
    "#coding: utf-8\n",
    "taxi_name = \"パタとタクシーー\""
   ]
  },
  {
   "cell_type": "code",
   "execution_count": 55,
   "metadata": {
    "collapsed": false
   },
   "outputs": [
    {
     "name": "stdout",
     "output_type": "stream",
     "text": [
      "1 �\n",
      "3 �\n",
      "5 �\n",
      "7 �\n"
     ]
    }
   ],
   "source": [
    "for i in range(1,8,2):\n",
    "    print i, taxi_name[i]"
   ]
  },
  {
   "cell_type": "code",
   "execution_count": 56,
   "metadata": {
    "collapsed": false
   },
   "outputs": [
    {
     "name": "stdout",
     "output_type": "stream",
     "text": [
      "�\n",
      "�\n",
      "�\n",
      "�\n",
      "�\n",
      "�\n",
      "�\n",
      "�\n",
      "�\n",
      "�\n",
      "�\n",
      "�\n",
      "�\n",
      "�\n",
      "�\n",
      "�\n",
      "�\n",
      "�\n",
      "�\n",
      "�\n",
      "�\n",
      "�\n",
      "�\n",
      "�\n"
     ]
    }
   ],
   "source": [
    "for i in range(len(taxi_name)):\n",
    "    print taxi_name[i]"
   ]
  },
  {
   "cell_type": "code",
   "execution_count": 57,
   "metadata": {
    "collapsed": true
   },
   "outputs": [],
   "source": [
    "taxi = list(taxi_name)"
   ]
  },
  {
   "cell_type": "code",
   "execution_count": 58,
   "metadata": {
    "collapsed": false
   },
   "outputs": [
    {
     "name": "stdout",
     "output_type": "stream",
     "text": [
      "['\\xe3', '\\x83', '\\x91', '\\xe3', '\\x82', '\\xbf', '\\xe3', '\\x81', '\\xa8', '\\xe3', '\\x82', '\\xbf', '\\xe3', '\\x82', '\\xaf', '\\xe3', '\\x82', '\\xb7', '\\xe3', '\\x83', '\\xbc', '\\xe3', '\\x83', '\\xbc']\n"
     ]
    }
   ],
   "source": [
    "print taxi"
   ]
  },
  {
   "cell_type": "code",
   "execution_count": 59,
   "metadata": {
    "collapsed": false
   },
   "outputs": [
    {
     "name": "stdout",
     "output_type": "stream",
     "text": [
      "パタとタクシーー\n"
     ]
    }
   ],
   "source": [
    "print taxi_name"
   ]
  },
  {
   "cell_type": "code",
   "execution_count": 62,
   "metadata": {
    "collapsed": false
   },
   "outputs": [
    {
     "name": "stdout",
     "output_type": "stream",
     "text": [
      "㑂�\n"
     ]
    }
   ],
   "source": [
    "print \"パタとタクシーー\"[0:7:2]"
   ]
  },
  {
   "cell_type": "code",
   "execution_count": 64,
   "metadata": {
    "collapsed": false
   },
   "outputs": [
    {
     "data": {
      "text/plain": [
       "u''"
      ]
     },
     "execution_count": 64,
     "metadata": {},
     "output_type": "execute_result"
    }
   ],
   "source": [
    "unicode('\\x83', errors='ignore')"
   ]
  },
  {
   "cell_type": "code",
   "execution_count": 65,
   "metadata": {
    "collapsed": true
   },
   "outputs": [],
   "source": [
    "taxi_name = u\"パタとタクシーー\""
   ]
  },
  {
   "cell_type": "code",
   "execution_count": 66,
   "metadata": {
    "collapsed": false
   },
   "outputs": [
    {
     "name": "stdout",
     "output_type": "stream",
     "text": [
      "パタとタクシーー\n"
     ]
    }
   ],
   "source": [
    "print taxi_name"
   ]
  },
  {
   "cell_type": "code",
   "execution_count": 69,
   "metadata": {
    "collapsed": false
   },
   "outputs": [
    {
     "name": "stdout",
     "output_type": "stream",
     "text": [
      "1 タ\n",
      "3 タ\n",
      "5 シ\n",
      "7 ー\n"
     ]
    }
   ],
   "source": [
    "\n",
    "for i in range(1,8,2):\n",
    "    print i,taxi_name[i]"
   ]
  },
  {
   "cell_type": "markdown",
   "metadata": {},
   "source": [
    "# 02 「パトカー」＋「タクシー」＝「パタトクカシーー」"
   ]
  },
  {
   "cell_type": "code",
   "execution_count": 70,
   "metadata": {
    "collapsed": true
   },
   "outputs": [],
   "source": [
    "s1= u\"パトカー\"\n",
    "s2= u\"タクシー\""
   ]
  },
  {
   "cell_type": "code",
   "execution_count": 73,
   "metadata": {
    "collapsed": false
   },
   "outputs": [
    {
     "name": "stdout",
     "output_type": "stream",
     "text": [
      "パトカータクシー\n"
     ]
    }
   ],
   "source": [
    "print s1+s2"
   ]
  },
  {
   "cell_type": "code",
   "execution_count": 82,
   "metadata": {
    "collapsed": false
   },
   "outputs": [
    {
     "name": "stdout",
     "output_type": "stream",
     "text": [
      "パ\n",
      "タ\n",
      "ト\n",
      "ク\n",
      "カ\n",
      "シ\n",
      "ー\n",
      "ー\n"
     ]
    }
   ],
   "source": [
    "for i in range(4):\n",
    "    print s1[i]\n",
    "    print s2[i]"
   ]
  },
  {
   "cell_type": "code",
   "execution_count": 80,
   "metadata": {
    "collapsed": false
   },
   "outputs": [],
   "source": [
    "s3 = u\"\"\n",
    "for i, j in zip(s1, s2):\n",
    "    s3 += i +j"
   ]
  },
  {
   "cell_type": "code",
   "execution_count": 81,
   "metadata": {
    "collapsed": false
   },
   "outputs": [
    {
     "name": "stdout",
     "output_type": "stream",
     "text": [
      "パタトクカシーー\n"
     ]
    }
   ],
   "source": [
    "print s3"
   ]
  },
  {
   "cell_type": "markdown",
   "metadata": {},
   "source": [
    "# 03 円周率"
   ]
  },
  {
   "cell_type": "code",
   "execution_count": 1,
   "metadata": {
    "collapsed": false
   },
   "outputs": [],
   "source": [
    "s4 = \"Now I need a drink, alcoholic of course, after the heavy lectures involving quantum mechanics.\""
   ]
  },
  {
   "cell_type": "code",
   "execution_count": 3,
   "metadata": {
    "collapsed": false
   },
   "outputs": [],
   "source": [
    "s_list = list(s4)"
   ]
  },
  {
   "cell_type": "code",
   "execution_count": 5,
   "metadata": {
    "collapsed": false
   },
   "outputs": [],
   "source": [
    "s_list_alphabet = []\n",
    "for i in range(len(s4)):\n",
    "    s_list_alphabet += s_list[i]"
   ]
  },
  {
   "cell_type": "code",
   "execution_count": 6,
   "metadata": {
    "collapsed": false
   },
   "outputs": [],
   "source": [
    "s_list = list(s4)"
   ]
  },
  {
   "cell_type": "code",
   "execution_count": 7,
   "metadata": {
    "collapsed": false
   },
   "outputs": [
    {
     "name": "stdout",
     "output_type": "stream",
     "text": [
      "['N', 'o', 'w', ' ', 'I', ' ', 'n', 'e', 'e', 'd', ' ', 'a', ' ', 'd', 'r', 'i', 'n', 'k', ',', ' ', 'a', 'l', 'c', 'o', 'h', 'o', 'l', 'i', 'c', ' ', 'o', 'f', ' ', 'c', 'o', 'u', 'r', 's', 'e', ',', ' ', 'a', 'f', 't', 'e', 'r', ' ', 't', 'h', 'e', ' ', 'h', 'e', 'a', 'v', 'y', ' ', 'l', 'e', 'c', 't', 'u', 'r', 'e', 's', ' ', 'i', 'n', 'v', 'o', 'l', 'v', 'i', 'n', 'g', ' ', 'q', 'u', 'a', 'n', 't', 'u', 'm', ' ', 'm', 'e', 'c', 'h', 'a', 'n', 'i', 'c', 's', '.']\n"
     ]
    }
   ],
   "source": [
    "print s_list"
   ]
  },
  {
   "cell_type": "code",
   "execution_count": 106,
   "metadata": {
    "collapsed": true
   },
   "outputs": [],
   "source": [
    "sentence = \"I love rose and like playing with cat.\""
   ]
  },
  {
   "cell_type": "code",
   "execution_count": 107,
   "metadata": {
    "collapsed": false
   },
   "outputs": [
    {
     "name": "stdout",
     "output_type": "stream",
     "text": [
      "I love rose and like playing with cat.\n"
     ]
    }
   ],
   "source": [
    "print sentence"
   ]
  },
  {
   "cell_type": "code",
   "execution_count": 108,
   "metadata": {
    "collapsed": false
   },
   "outputs": [
    {
     "name": "stdout",
     "output_type": "stream",
     "text": [
      "I\n",
      " \n",
      "l\n",
      "o\n",
      "v\n",
      "e\n",
      " \n",
      "r\n",
      "o\n",
      "s\n",
      "e\n",
      " \n",
      "a\n",
      "n\n",
      "d\n",
      " \n",
      "l\n",
      "i\n",
      "k\n",
      "e\n",
      " \n",
      "p\n",
      "l\n",
      "a\n",
      "y\n",
      "i\n",
      "n\n",
      "g\n",
      " \n",
      "w\n",
      "i\n",
      "t\n",
      "h\n",
      " \n",
      "c\n",
      "a\n",
      "t\n",
      ".\n"
     ]
    }
   ],
   "source": [
    "for word in sentence: print word"
   ]
  },
  {
   "cell_type": "code",
   "execution_count": 11,
   "metadata": {
    "collapsed": false
   },
   "outputs": [],
   "source": [
    "d = []\n",
    "for word in s4.split(\" \"):\n",
    "     d += word[0].lower()"
   ]
  },
  {
   "cell_type": "code",
   "execution_count": 21,
   "metadata": {
    "collapsed": false
   },
   "outputs": [],
   "source": [
    "from collections import Counter"
   ]
  },
  {
   "cell_type": "code",
   "execution_count": 22,
   "metadata": {
    "collapsed": false
   },
   "outputs": [],
   "source": [
    "frequency = Counter(d)"
   ]
  },
  {
   "cell_type": "code",
   "execution_count": 25,
   "metadata": {
    "collapsed": false
   },
   "outputs": [
    {
     "data": {
      "text/plain": [
       "Counter({'a': 3,\n",
       "         'c': 1,\n",
       "         'd': 1,\n",
       "         'h': 1,\n",
       "         'i': 2,\n",
       "         'l': 1,\n",
       "         'm': 1,\n",
       "         'n': 2,\n",
       "         'o': 1,\n",
       "         'q': 1,\n",
       "         't': 1})"
      ]
     },
     "execution_count": 25,
     "metadata": {},
     "output_type": "execute_result"
    }
   ],
   "source": [
    "frequency"
   ]
  },
  {
   "cell_type": "code",
   "execution_count": 37,
   "metadata": {
    "collapsed": false
   },
   "outputs": [],
   "source": [
    "sorteddict = sorted(frequency.items(), key = lambda item: item[1])"
   ]
  },
  {
   "cell_type": "code",
   "execution_count": 38,
   "metadata": {
    "collapsed": false
   },
   "outputs": [
    {
     "data": {
      "text/plain": [
       "[('c', 1),\n",
       " ('d', 1),\n",
       " ('h', 1),\n",
       " ('m', 1),\n",
       " ('l', 1),\n",
       " ('o', 1),\n",
       " ('q', 1),\n",
       " ('t', 1),\n",
       " ('i', 2),\n",
       " ('n', 2),\n",
       " ('a', 3)]"
      ]
     },
     "execution_count": 38,
     "metadata": {},
     "output_type": "execute_result"
    }
   ],
   "source": [
    "sorteddict"
   ]
  },
  {
   "cell_type": "markdown",
   "metadata": {
    "collapsed": true
   },
   "source": [
    "# 04元素記号"
   ]
  },
  {
   "cell_type": "code",
   "execution_count": 2,
   "metadata": {
    "collapsed": false
   },
   "outputs": [],
   "source": [
    "st1 = \"Hi He Lied Because Boron Could Not Oxidize Fluorine. New Nations Might Also Sign Peace Security Clause. Arthur King Can.\""
   ]
  },
  {
   "cell_type": "code",
   "execution_count": 22,
   "metadata": {
    "collapsed": false
   },
   "outputs": [
    {
     "name": "stdout",
     "output_type": "stream",
     "text": [
      "hi\n",
      "h\n",
      "li\n",
      "be\n",
      "bo\n",
      "c\n",
      "n\n",
      "o\n",
      "f\n",
      "n\n",
      "na\n",
      "mi\n",
      "al\n",
      "si\n",
      "pe\n",
      "s\n",
      "c\n",
      "ar\n",
      "ki\n",
      "c\n"
     ]
    }
   ],
   "source": [
    "numlist= [1, 5, 6, 7, 8, 9, 15, 16, 19]\n",
    "str2 = st1.split(\" \")\n",
    "for i in range(len(str2)):\n",
    "    word = str2[i]\n",
    "    if i in numlist:\n",
    "        print word[0].lower()\n",
    "    else:\n",
    "        print word[0:2].lower()"
   ]
  },
  {
   "cell_type": "code",
   "execution_count": 25,
   "metadata": {
    "collapsed": false
   },
   "outputs": [
    {
     "name": "stdout",
     "output_type": "stream",
     "text": [
      "desserts\n"
     ]
    }
   ],
   "source": [
    "str = \"stressed\"\n",
    "print str[::-1]"
   ]
  },
  {
   "cell_type": "markdown",
   "metadata": {},
   "source": [
    "# 05 n-gram"
   ]
  },
  {
   "cell_type": "code",
   "execution_count": 26,
   "metadata": {
    "collapsed": true
   },
   "outputs": [],
   "source": [
    "str05 = \"I am an NLPer\""
   ]
  },
  {
   "cell_type": "code",
   "execution_count": 27,
   "metadata": {
    "collapsed": false
   },
   "outputs": [
    {
     "data": {
      "text/plain": [
       "13"
      ]
     },
     "execution_count": 27,
     "metadata": {},
     "output_type": "execute_result"
    }
   ],
   "source": [
    "len(str05)"
   ]
  },
  {
   "cell_type": "code",
   "execution_count": 38,
   "metadata": {
    "collapsed": false
   },
   "outputs": [
    {
     "name": "stdout",
     "output_type": "stream",
     "text": [
      "I am\n",
      "am an\n",
      "an NLPer\n"
     ]
    }
   ],
   "source": [
    "split_str05 =str05.split(\" \")\n",
    "for i in xrange(len(split_str05)):\n",
    "    if i < len(split_str05) - 1:\n",
    "        print split_str05[i], split_str05[i + 1]\n",
    "    else: \n",
    "        break"
   ]
  },
  {
   "cell_type": "code",
   "execution_count": 44,
   "metadata": {
    "collapsed": false
   },
   "outputs": [
    {
     "name": "stdout",
     "output_type": "stream",
     "text": [
      "I  \n",
      "  a\n",
      "a m\n",
      "m  \n",
      "  a\n",
      "a n\n",
      "n  \n",
      "  N\n",
      "N L\n",
      "L P\n",
      "P e\n",
      "e r\n"
     ]
    }
   ],
   "source": [
    "for i in xrange(len(str05)):\n",
    "    if i < len(str05) - 1: print str05[i], str05[i+1]"
   ]
  },
  {
   "cell_type": "code",
   "execution_count": 61,
   "metadata": {
    "collapsed": false
   },
   "outputs": [],
   "source": [
    "def ngram(n , mode, string):\n",
    "    if mode == \"char\":\n",
    "        feature_list= [char for char in string]\n",
    "    else:\n",
    "        feature_list = string.split()\n",
    "        \n",
    "    ngram_list = []\n",
    "    for i in xrange(len(feature_list) - 1):\n",
    "        ngram_list += feature_list[i] + feature_list[i+1]\n",
    "        \n",
    "            \n",
    "    return ngram_list"
   ]
  },
  {
   "cell_type": "code",
   "execution_count": 62,
   "metadata": {
    "collapsed": false
   },
   "outputs": [
    {
     "name": "stdout",
     "output_type": "stream",
     "text": [
      "['I', 'a', 'm', 'a', 'm', 'a', 'n', 'a', 'n', 'N', 'L', 'P', 'e', 'r']\n",
      "['I', ' ', ' ', 'a', 'a', 'm', 'm', ' ', ' ', 'a', 'a', 'n', 'n', ' ', ' ', 'N', 'N', 'L', 'L', 'P', 'P', 'e', 'e', 'r']\n"
     ]
    }
   ],
   "source": [
    "if __name__ == '__main__':\n",
    "    # n = raw_input(\"n: \").decode(\"utf-8\")\n",
    "    n = 2\n",
    "    string = \"I am an NLPer\"\n",
    "    # string = raw_input(\"string: \").decode('utf-8')\n",
    "    # mode = raw_input(\"mode: \").decode('utf-8')\n",
    "    print(ngram(n, 'word', string))\n",
    "    print(ngram(n, 'char', string))"
   ]
  },
  {
   "cell_type": "code",
   "execution_count": 63,
   "metadata": {
    "collapsed": true
   },
   "outputs": [],
   "source": [
    "string = \"I am an NLPer\"\n",
    "\n",
    "feature_list = []\n",
    "for char in string:\n",
    "    feature_list += char"
   ]
  },
  {
   "cell_type": "code",
   "execution_count": 64,
   "metadata": {
    "collapsed": false
   },
   "outputs": [
    {
     "data": {
      "text/plain": [
       "['I', ' ', 'a', 'm', ' ', 'a', 'n', ' ', 'N', 'L', 'P', 'e', 'r']"
      ]
     },
     "execution_count": 64,
     "metadata": {},
     "output_type": "execute_result"
    }
   ],
   "source": [
    "feature_list"
   ]
  },
  {
   "cell_type": "code",
   "execution_count": 55,
   "metadata": {
    "collapsed": true
   },
   "outputs": [],
   "source": [
    "string = \"I am an NLPer\"\n",
    "\n",
    "feature_list = string.split()"
   ]
  },
  {
   "cell_type": "code",
   "execution_count": 56,
   "metadata": {
    "collapsed": false
   },
   "outputs": [
    {
     "data": {
      "text/plain": [
       "['I', 'am', 'an', 'NLPer']"
      ]
     },
     "execution_count": 56,
     "metadata": {},
     "output_type": "execute_result"
    }
   ],
   "source": [
    "feature_list"
   ]
  },
  {
   "cell_type": "markdown",
   "metadata": {},
   "source": [
    "# 06 集合"
   ]
  },
  {
   "cell_type": "code",
   "execution_count": 1,
   "metadata": {
    "collapsed": true
   },
   "outputs": [],
   "source": [
    "str1 =\"paraparaparadise\"\n",
    "str2 =\"paragraph\""
   ]
  },
  {
   "cell_type": "code",
   "execution_count": 25,
   "metadata": {
    "collapsed": true
   },
   "outputs": [],
   "source": [
    "def n_gram(string1):\n",
    "    n_gramlist = []\n",
    "    for i in range(len(string1)):\n",
    "        n_gramlisttemp = []\n",
    "        if i < len(string1) - 1:\n",
    "            n_gramlisttemp += string1[i] + string1[i+1]\n",
    "            n_gramlist.append(n_gramlisttemp)\n",
    "    return n_gramlist\n",
    "    "
   ]
  },
  {
   "cell_type": "code",
   "execution_count": 30,
   "metadata": {
    "collapsed": false
   },
   "outputs": [],
   "source": [
    "X = n_gram(str1)\n",
    "Y = n_gram(str2)"
   ]
  },
  {
   "cell_type": "code",
   "execution_count": 33,
   "metadata": {
    "collapsed": false
   },
   "outputs": [
    {
     "data": {
      "text/plain": [
       "[['p', 'a'],\n",
       " ['a', 'r'],\n",
       " ['r', 'a'],\n",
       " ['a', 'p'],\n",
       " ['p', 'a'],\n",
       " ['a', 'r'],\n",
       " ['r', 'a'],\n",
       " ['a', 'p'],\n",
       " ['p', 'a'],\n",
       " ['a', 'r'],\n",
       " ['r', 'a'],\n",
       " ['a', 'd'],\n",
       " ['d', 'i'],\n",
       " ['i', 's'],\n",
       " ['s', 'e']]"
      ]
     },
     "execution_count": 33,
     "metadata": {},
     "output_type": "execute_result"
    }
   ],
   "source": [
    "X"
   ]
  },
  {
   "cell_type": "code",
   "execution_count": 34,
   "metadata": {
    "collapsed": false
   },
   "outputs": [
    {
     "data": {
      "text/plain": [
       "[['p', 'a'],\n",
       " ['a', 'r'],\n",
       " ['r', 'a'],\n",
       " ['a', 'g'],\n",
       " ['g', 'r'],\n",
       " ['r', 'a'],\n",
       " ['a', 'p'],\n",
       " ['p', 'h']]"
      ]
     },
     "execution_count": 34,
     "metadata": {},
     "output_type": "execute_result"
    }
   ],
   "source": [
    "Y"
   ]
  },
  {
   "cell_type": "code",
   "execution_count": 35,
   "metadata": {
    "collapsed": false
   },
   "outputs": [
    {
     "data": {
      "text/plain": [
       "[['p', 'a'],\n",
       " ['a', 'r'],\n",
       " ['r', 'a'],\n",
       " ['a', 'p'],\n",
       " ['p', 'a'],\n",
       " ['a', 'r'],\n",
       " ['r', 'a'],\n",
       " ['a', 'p'],\n",
       " ['p', 'a'],\n",
       " ['a', 'r'],\n",
       " ['r', 'a'],\n",
       " ['a', 'd'],\n",
       " ['d', 'i'],\n",
       " ['i', 's'],\n",
       " ['s', 'e'],\n",
       " ['p', 'a'],\n",
       " ['a', 'r'],\n",
       " ['r', 'a'],\n",
       " ['a', 'g'],\n",
       " ['g', 'r'],\n",
       " ['r', 'a'],\n",
       " ['a', 'p'],\n",
       " ['p', 'h']]"
      ]
     },
     "execution_count": 35,
     "metadata": {},
     "output_type": "execute_result"
    }
   ],
   "source": [
    "X + Y"
   ]
  },
  {
   "cell_type": "code",
   "execution_count": 36,
   "metadata": {
    "collapsed": false
   },
   "outputs": [
    {
     "ename": "TypeError",
     "evalue": "unsupported operand type(s) for -: 'list' and 'list'",
     "output_type": "error",
     "traceback": [
      "\u001b[1;31m---------------------------------------------------------------------------\u001b[0m",
      "\u001b[1;31mTypeError\u001b[0m                                 Traceback (most recent call last)",
      "\u001b[1;32m<ipython-input-36-c793dd9a6e0b>\u001b[0m in \u001b[0;36m<module>\u001b[1;34m()\u001b[0m\n\u001b[1;32m----> 1\u001b[1;33m \u001b[0mX\u001b[0m \u001b[1;33m-\u001b[0m \u001b[0mY\u001b[0m\u001b[1;33m\u001b[0m\u001b[0m\n\u001b[0m",
      "\u001b[1;31mTypeError\u001b[0m: unsupported operand type(s) for -: 'list' and 'list'"
     ]
    }
   ],
   "source": [
    "X - Y"
   ]
  },
  {
   "cell_type": "code",
   "execution_count": null,
   "metadata": {
    "collapsed": true
   },
   "outputs": [],
   "source": []
  }
 ],
 "metadata": {
  "kernelspec": {
   "display_name": "Python 2",
   "language": "python",
   "name": "python2"
  },
  "language_info": {
   "codemirror_mode": {
    "name": "ipython",
    "version": 2
   },
   "file_extension": ".py",
   "mimetype": "text/x-python",
   "name": "python",
   "nbconvert_exporter": "python",
   "pygments_lexer": "ipython2",
   "version": "2.7.6"
  }
 },
 "nbformat": 4,
 "nbformat_minor": 0
}
